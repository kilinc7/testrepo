{
  "metadata": {
    "language_info": {
      "codemirror_mode": {
        "name": "python",
        "version": 3
      },
      "file_extension": ".py",
      "mimetype": "text/x-python",
      "name": "python",
      "nbconvert_exporter": "python",
      "pygments_lexer": "ipython3",
      "version": "3.8"
    },
    "kernelspec": {
      "name": "python",
      "display_name": "Pyolite",
      "language": "python"
    }
  },
  "nbformat_minor": 4,
  "nbformat": 4,
  "cells": [
    {
      "cell_type": "markdown",
      "source": "My Jupyter Notebook on Ibm Watson Studio\n\n",
      "metadata": {}
    },
    {
      "cell_type": "markdown",
      "source": "Samet Kılınç",
      "metadata": {}
    },
    {
      "cell_type": "markdown",
      "source": "%100 Human",
      "metadata": {}
    },
    {
      "cell_type": "markdown",
      "source": "I am interested in data science because I want to make right predictions",
      "metadata": {}
    },
    {
      "cell_type": "markdown",
      "source": "The fallowing formula helps you calculate a hundredfold\n",
      "metadata": {}
    },
    {
      "cell_type": "code",
      "source": "def hundredfold (n):\n    return n * 100",
      "metadata": {
        "trusted": true
      },
      "execution_count": 2,
      "outputs": []
    }
  ]
}